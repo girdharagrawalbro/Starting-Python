{
  "nbformat": 4,
  "nbformat_minor": 0,
  "metadata": {
    "colab": {
      "provenance": [],
      "authorship_tag": "ABX9TyMZkN/unVqhU0DF4POYbnx4",
      "include_colab_link": true
    },
    "kernelspec": {
      "name": "python3",
      "display_name": "Python 3"
    },
    "language_info": {
      "name": "python"
    }
  },
  "cells": [
    {
      "cell_type": "markdown",
      "metadata": {
        "id": "view-in-github",
        "colab_type": "text"
      },
      "source": [
        "<a href=\"https://colab.research.google.com/github/girdharagrawalbro/Starting-Python/blob/main/PythonLab.ipynb\" target=\"_parent\"><img src=\"https://colab.research.google.com/assets/colab-badge.svg\" alt=\"Open In Colab\"/></a>"
      ]
    },
    {
      "cell_type": "code",
      "execution_count": null,
      "metadata": {
        "colab": {
          "base_uri": "https://localhost:8080/"
        },
        "id": "QEnNJlbZPeJ1",
        "outputId": "71020e7a-faee-4da8-b352-2a19ad0591e2"
      },
      "outputs": [
        {
          "output_type": "stream",
          "name": "stdout",
          "text": [
            "Girdhar Agrawal\n"
          ]
        }
      ],
      "source": [
        "# Printing my name that is girdhar agrawal\n",
        "print(\"Girdhar Agrawal\")"
      ]
    },
    {
      "cell_type": "code",
      "source": [
        "# Printing the data types of variables\n",
        "x = 5\n",
        "name =\"Girdhar Agrawal\"\n",
        "msg = \"My name is:\"\n",
        "names = [\"girdhar\", \"naman\", \"umesh\"]\n",
        "a = 10.11\n",
        "b = 'a'\n",
        "c = 10.11111111\n",
        "print(type(x))  #int\n",
        "print(type(name)) #str\n",
        "print(type(a))  #float\n",
        "print(type(c))  #float\n",
        "print(type(names))  #list\n",
        "print(msg, name)  #My name is: Girdhar Agrawal\n"
      ],
      "metadata": {
        "colab": {
          "base_uri": "https://localhost:8080/"
        },
        "id": "I5uFAteWQbAh",
        "outputId": "60bd1e83-849d-4792-c87e-5a01a19883ca"
      },
      "execution_count": null,
      "outputs": [
        {
          "output_type": "stream",
          "name": "stdout",
          "text": [
            "<class 'int'>\n",
            "<class 'str'>\n",
            "<class 'float'>\n",
            "<class 'float'>\n",
            "<class 'list'>\n",
            "My name is: Girdhar Agrawal\n"
          ]
        }
      ]
    },
    {
      "cell_type": "code",
      "source": [
        "#taking input\n",
        "msg  = input(\"Enter your Message: \")\n",
        "name = input(\"Enter your Name: \")\n",
        "print(msg,name)"
      ],
      "metadata": {
        "colab": {
          "base_uri": "https://localhost:8080/"
        },
        "id": "dL0TVm9TS4sN",
        "outputId": "b846bfd4-2551-435b-83d7-bd7e2a4921e5"
      },
      "execution_count": 48,
      "outputs": [
        {
          "output_type": "stream",
          "name": "stdout",
          "text": [
            "Enter your Message: My name is\n",
            "Enter your Name: girdhar\n",
            "My name is girdhar\n"
          ]
        }
      ]
    },
    {
      "cell_type": "code",
      "source": [
        "a = 1\n",
        "msg =\"My name is:\"\n",
        "names = [\"girdhar\", \"naman\", \"umesh\"]\n",
        "for name in names :\n",
        "  print(msg,name)"
      ],
      "metadata": {
        "colab": {
          "base_uri": "https://localhost:8080/"
        },
        "id": "9KweZR1FQmsI",
        "outputId": "fd93cb41-522d-4083-9c3b-873a11dce436"
      },
      "execution_count": null,
      "outputs": [
        {
          "output_type": "stream",
          "name": "stdout",
          "text": [
            "<class 'list'>\n",
            "My name is: girdhar\n",
            "My name is: naman\n",
            "My name is: umesh\n"
          ]
        }
      ]
    },
    {
      "cell_type": "code",
      "source": [
        "name = \"girdhar\"\n",
        "if name == \"girdhar\":\n",
        "  print(\"correct\")"
      ],
      "metadata": {
        "colab": {
          "base_uri": "https://localhost:8080/"
        },
        "id": "EBvPf6-eRP91",
        "outputId": "894fada0-1301-46a2-b17c-166f266602e4"
      },
      "execution_count": null,
      "outputs": [
        {
          "output_type": "stream",
          "name": "stdout",
          "text": [
            "correct\n"
          ]
        }
      ]
    },
    {
      "cell_type": "code",
      "source": [
        "import numpy as np\n",
        "\n",
        "random_numbers = np.random.rand(10)\n",
        "print(random_numbers)\n"
      ],
      "metadata": {
        "colab": {
          "base_uri": "https://localhost:8080/"
        },
        "id": "oEM8xeaaR8ve",
        "outputId": "bf29e7b7-a402-4513-e3a1-792fa3533c97"
      },
      "execution_count": null,
      "outputs": [
        {
          "output_type": "stream",
          "name": "stdout",
          "text": [
            "[0.932485   0.44140677 0.1818131  0.58699331 0.05955852 0.95740473\n",
            " 0.16594121 0.24640214 0.27743228 0.4291815 ]\n"
          ]
        }
      ]
    },
    {
      "cell_type": "code",
      "source": [
        "def welcome(name):\n",
        "    return f\"Hello, {name}!\"\n",
        "\n",
        "message = welcome(\"Girdhar\")\n",
        "print(message)\n"
      ],
      "metadata": {
        "colab": {
          "base_uri": "https://localhost:8080/"
        },
        "id": "VDXnI-YKSWJv",
        "outputId": "e142c557-8770-444a-8e35-8b17c45611b2"
      },
      "execution_count": null,
      "outputs": [
        {
          "output_type": "stream",
          "name": "stdout",
          "text": [
            "Hello, Girdhar!\n"
          ]
        }
      ]
    },
    {
      "cell_type": "code",
      "source": [
        "import pandas as pd\n",
        "\n",
        "# Create a DataFrame with 2 columns and 10 rows\n",
        "data = {'col1': range(10), 'col2': [x * 2 for x in range(10)]}\n",
        "df = pd.DataFrame(data)\n",
        "print(df)"
      ],
      "metadata": {
        "colab": {
          "base_uri": "https://localhost:8080/"
        },
        "id": "xIalkC_6S35G",
        "outputId": "b8986f22-e274-4051-c5d0-d405931f306f"
      },
      "execution_count": null,
      "outputs": [
        {
          "output_type": "stream",
          "name": "stdout",
          "text": [
            "   col1  col2\n",
            "0     0     0\n",
            "1     1     2\n",
            "2     2     4\n",
            "3     3     6\n",
            "4     4     8\n",
            "5     5    10\n",
            "6     6    12\n",
            "7     7    14\n",
            "8     8    16\n",
            "9     9    18\n"
          ]
        }
      ]
    },
    {
      "cell_type": "code",
      "source": [
        "#input two numbers and display the larger and smaller number\n",
        "a = input(\"Enter first number: \")\n",
        "b = input(\"Enter second number: \")\n",
        "if a > b:\n",
        "  print(\"Larger number is: \",a)\n",
        "  print(\"Smaller number is: \",b)\n",
        "else:\n",
        "  print(\"Larger number is: \",b)\n",
        "  print(\"Smaller number is: \",a)"
      ],
      "metadata": {
        "id": "en9JGEW1YLbI",
        "colab": {
          "base_uri": "https://localhost:8080/"
        },
        "outputId": "921bb581-a511-4650-99c9-92870b996a21"
      },
      "execution_count": 49,
      "outputs": [
        {
          "output_type": "stream",
          "name": "stdout",
          "text": [
            "Enter first number: 34\n",
            "Enter second number: 21\n",
            "Larger number is:  34\n",
            "Smaller number is:  21\n"
          ]
        }
      ]
    },
    {
      "cell_type": "code",
      "source": [
        "#type casting\n",
        "a = 7\n",
        "print(type(a))\n",
        "b = 3.0\n",
        "print(type(b))\n",
        "c = a+b\n",
        "print(c)\n",
        "print (type(c))\n",
        "\n",
        "d = a*b\n",
        "print(d)\n",
        "print(type(d))"
      ],
      "metadata": {
        "colab": {
          "base_uri": "https://localhost:8080/"
        },
        "id": "6DAymuZvdiuQ",
        "outputId": "08b22f21-dc30-4e76-ee16-7ae32eee62b6"
      },
      "execution_count": null,
      "outputs": [
        {
          "output_type": "stream",
          "name": "stdout",
          "text": [
            "<class 'int'>\n",
            "<class 'float'>\n",
            "10.0\n",
            "<class 'float'>\n",
            "21.0\n",
            "<class 'float'>\n"
          ]
        }
      ]
    },
    {
      "cell_type": "code",
      "source": [
        "# Slicing\n",
        "b = \"Girdhar Agrawal\"\n",
        "print(b[0:8])\n",
        "print(b[8:])\n",
        "print(b[:8])\n",
        "print(b[2:8])"
      ],
      "metadata": {
        "id": "ZxkUabtzdtB-",
        "colab": {
          "base_uri": "https://localhost:8080/"
        },
        "outputId": "7a2179a7-0a97-4bd6-fdd8-1e6c0001bacd"
      },
      "execution_count": 60,
      "outputs": [
        {
          "output_type": "stream",
          "name": "stdout",
          "text": [
            "Girdhar \n",
            "Agrawal\n",
            "Girdhar \n",
            "rdhar \n"
          ]
        }
      ]
    },
    {
      "cell_type": "code",
      "source": [],
      "metadata": {
        "id": "euY5Wd46hTHi"
      },
      "execution_count": null,
      "outputs": []
    }
  ]
}